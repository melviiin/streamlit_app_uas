{
 "cells": [
  {
   "cell_type": "code",
   "execution_count": 1,
   "id": "3c5f1298-feab-4a2b-84f3-fe76b6d32c1b",
   "metadata": {},
   "outputs": [],
   "source": [
    "from fastapi import FastAPI\n",
    "from pydantic import BaseModel\n",
    "import pandas as pd\n",
    "import pickle\n",
    "import uvicorn"
   ]
  },
  {
   "cell_type": "code",
   "execution_count": 2,
   "id": "f235b3b2-4c92-4731-aff6-40cfaf3dbea2",
   "metadata": {},
   "outputs": [],
   "source": [
    "with open(\"model.pkl\", \"rb\") as f:\n",
    "    model = pickle.load(f)\n",
    "\n",
    "app = FastAPI()\n",
    "\n",
    "# Schema input\n",
    "class ObesityInput(BaseModel):\n",
    "    Gender: str\n",
    "    Age: float\n",
    "    Height: float\n",
    "    Weight: float\n",
    "    family_history_with_overweight: str\n",
    "    FAVC: str\n",
    "    FCVC: float\n",
    "    NCP: float\n",
    "    CAEC: str\n",
    "    SMOKE: str\n",
    "    CH2O: float\n",
    "    SCC: str\n",
    "    FAF: float\n",
    "    TUE: float\n",
    "    CALC: str\n",
    "    MTRANS: str\n",
    "\n",
    "@app.post(\"/predict\")\n",
    "def predict_obesity(data: ObesityInput):\n",
    "    input_df = pd.DataFrame([data.dict()])\n",
    "    prediction = model.predict(input_df)\n",
    "    return {\n",
    "        \"prediction_index\": int(prediction[0]),\n",
    "        \"prediction_label\": prediction[0]\n",
    "    }"
   ]
  },
  {
   "cell_type": "code",
   "execution_count": null,
   "id": "c8a58c36-a9e0-42a7-b797-62bf1b060fab",
   "metadata": {},
   "outputs": [],
   "source": [
    "import nest_asyncio\n",
    "\n",
    "nest_asyncio.apply()\n",
    "uvicorn.run(\"backend_api:app\", host=\"0.0.0.0\", port=8000, reload=True)"
   ]
  },
  {
   "cell_type": "code",
   "execution_count": null,
   "id": "d1002893-6ef6-4cd1-bb81-0e8184e6bc68",
   "metadata": {},
   "outputs": [],
   "source": []
  }
 ],
 "metadata": {
  "kernelspec": {
   "display_name": "Python 3 (ipykernel)",
   "language": "python",
   "name": "python3"
  },
  "language_info": {
   "codemirror_mode": {
    "name": "ipython",
    "version": 3
   },
   "file_extension": ".py",
   "mimetype": "text/x-python",
   "name": "python",
   "nbconvert_exporter": "python",
   "pygments_lexer": "ipython3",
   "version": "3.11.11"
  }
 },
 "nbformat": 4,
 "nbformat_minor": 5
}
