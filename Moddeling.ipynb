{
 "cells": [
  {
   "cell_type": "code",
   "execution_count": 1,
   "id": "6fcde7af-78fc-4fdd-a949-72514edcfd32",
   "metadata": {},
   "outputs": [],
   "source": [
    "import pandas as pd\n",
    "import numpy as np\n",
    "from sklearn.model_selection import train_test_split\n",
    "from sklearn.preprocessing import LabelEncoder, StandardScaler\n",
    "from sklearn.ensemble import RandomForestClassifier\n",
    "from xgboost import XGBClassifier\n",
    "from sklearn.metrics import classification_report, confusion_matrix\n",
    "from sklearn.pipeline import Pipeline\n",
    "from sklearn.compose import ColumnTransformer\n",
    "from sklearn.preprocessing import OneHotEncoder\n",
    "from sklearn.impute import SimpleImputer\n",
    "import pickle"
   ]
  },
  {
   "cell_type": "code",
   "execution_count": 2,
   "id": "159a4220-098f-4502-a229-e5aa0f376bf8",
   "metadata": {},
   "outputs": [],
   "source": [
    "df = pd.read_csv(r\"C:\\Users\\Lenovo\\OneDrive\\Documents\\Data science\\smst 4\\Model Deployment\\UAS Project\\ObesityDataSet2.csv\")\n",
    "df['Age'] = pd.to_numeric(df['Age'], errors='coerce')\n",
    "\n",
    "cat_cols = ['MTRANS']\n",
    "df[cat_cols] = df[cat_cols].fillna(df[cat_cols].mode().iloc[0])\n",
    "df['FCVC'] = df['FCVC'].fillna(df['FCVC'].median())\n",
    "\n",
    "y = df['NObeyesdad']\n",
    "X = df.drop(columns='NObeyesdad')\n",
    "\n",
    "cat_features = X.select_dtypes(include='object').columns.tolist()\n",
    "num_features = X.select_dtypes(include='number').columns.tolist()"
   ]
  },
  {
   "cell_type": "code",
   "execution_count": 3,
   "id": "9d48ed8e-2a21-430b-b736-facdb45c5161",
   "metadata": {},
   "outputs": [
    {
     "name": "stdout",
     "output_type": "stream",
     "text": [
      "Random Forest:\n",
      "              precision    recall  f1-score   support\n",
      "\n",
      "           0       0.96      1.00      0.98        27\n",
      "           1       0.77      0.93      0.84        29\n",
      "           2       0.97      0.86      0.91        35\n",
      "           3       0.97      0.97      0.97        30\n",
      "           4       0.97      0.97      0.97        33\n",
      "           5       0.96      0.90      0.93        29\n",
      "           6       0.89      0.86      0.88        29\n",
      "\n",
      "    accuracy                           0.92       212\n",
      "   macro avg       0.93      0.93      0.93       212\n",
      "weighted avg       0.93      0.92      0.93       212\n",
      "\n",
      "XGBoost:\n",
      "              precision    recall  f1-score   support\n",
      "\n",
      "           0       1.00      1.00      1.00        27\n",
      "           1       0.93      0.97      0.95        29\n",
      "           2       0.87      0.94      0.90        35\n",
      "           3       0.94      0.97      0.95        30\n",
      "           4       1.00      0.97      0.98        33\n",
      "           5       0.93      0.93      0.93        29\n",
      "           6       0.96      0.83      0.89        29\n",
      "\n",
      "    accuracy                           0.94       212\n",
      "   macro avg       0.95      0.94      0.94       212\n",
      "weighted avg       0.95      0.94      0.94       212\n",
      "\n"
     ]
    },
    {
     "name": "stderr",
     "output_type": "stream",
     "text": [
      "C:\\Users\\Lenovo\\.conda\\envs\\mlops\\Lib\\site-packages\\xgboost\\training.py:183: UserWarning: [14:48:31] WARNING: C:\\actions-runner\\_work\\xgboost\\xgboost\\src\\learner.cc:738: \n",
      "Parameters: { \"use_label_encoder\" } are not used.\n",
      "\n",
      "  bst.update(dtrain, iteration=i, fobj=obj)\n"
     ]
    }
   ],
   "source": [
    "X = df.drop(columns=\"NObeyesdad\")\n",
    "y_raw = df[\"NObeyesdad\"]\n",
    "\n",
    "# Encode target label\n",
    "label_encoder = LabelEncoder()\n",
    "y = label_encoder.fit_transform(y_raw)\n",
    "\n",
    "# Simpan label encoder untuk dipakai saat inference di FastAPI\n",
    "with open(\"label_encoder.pkl\", \"wb\") as f:\n",
    "    pickle.dump(label_encoder, f)\n",
    "\n",
    "# Identifikasi fitur kategorik dan numerik\n",
    "cat_features = X.select_dtypes(include=\"object\").columns.tolist()\n",
    "num_features = X.select_dtypes(exclude=\"object\").columns.tolist()\n",
    "\n",
    "# Split data\n",
    "X_train, X_test, y_train, y_test = train_test_split(\n",
    "    X, y, test_size=0.2, random_state=42, stratify=y\n",
    ")\n",
    "\n",
    "# Preprocessing pipeline\n",
    "preprocessor = ColumnTransformer([\n",
    "    ('cat', Pipeline([\n",
    "        ('imputer', SimpleImputer(strategy='most_frequent')),\n",
    "        ('encoder', OneHotEncoder(handle_unknown='ignore'))\n",
    "    ]), cat_features),\n",
    "    ('num', Pipeline([\n",
    "        ('scaler', StandardScaler())\n",
    "    ]), num_features)\n",
    "])\n",
    "\n",
    "# Random Forest pipeline\n",
    "pipeline_rf = Pipeline([\n",
    "    ('preprocess', preprocessor),\n",
    "    ('model', RandomForestClassifier(random_state=42))\n",
    "])\n",
    "\n",
    "# XGBoost pipeline\n",
    "pipeline_xgb = Pipeline([\n",
    "    ('preprocess', preprocessor),\n",
    "    ('model', XGBClassifier(use_label_encoder=False, eval_metric='mlogloss'))\n",
    "])\n",
    "\n",
    "# Fit dan evaluasi RF\n",
    "pipeline_rf.fit(X_train, y_train)\n",
    "y_pred_rf = pipeline_rf.predict(X_test)\n",
    "print(\"Random Forest:\")\n",
    "print(classification_report(y_test, y_pred_rf))\n",
    "\n",
    "# Fit dan evaluasi XGB\n",
    "pipeline_xgb.fit(X_train, y_train)\n",
    "y_pred_xgb = pipeline_xgb.predict(X_test)\n",
    "print(\"XGBoost:\")\n",
    "print(classification_report(y_test, y_pred_xgb))\n",
    "\n",
    "# Simpan model terbaik (misal XGB)\n",
    "with open(\"model.pkl\", \"wb\") as f:\n",
    "    pickle.dump(pipeline_xgb, f)"
   ]
  },
  {
   "cell_type": "code",
   "execution_count": null,
   "id": "024a84fd-4b76-4bbc-b50b-759a9a978cbf",
   "metadata": {},
   "outputs": [],
   "source": []
  }
 ],
 "metadata": {
  "kernelspec": {
   "display_name": "Python 3 (ipykernel)",
   "language": "python",
   "name": "python3"
  },
  "language_info": {
   "codemirror_mode": {
    "name": "ipython",
    "version": 3
   },
   "file_extension": ".py",
   "mimetype": "text/x-python",
   "name": "python",
   "nbconvert_exporter": "python",
   "pygments_lexer": "ipython3",
   "version": "3.11.11"
  }
 },
 "nbformat": 4,
 "nbformat_minor": 5
}
